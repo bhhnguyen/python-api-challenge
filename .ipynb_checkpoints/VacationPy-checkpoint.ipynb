{
 "cells": [
  {
   "cell_type": "markdown",
   "metadata": {},
   "source": [
    "# VacationPy\n",
    "----\n",
    "\n",
    "#### Note\n",
    "* Instructions have been included for each segment. You do not have to follow them exactly, but they are included to help you think through the steps."
   ]
  },
  {
   "cell_type": "code",
   "execution_count": 1,
   "metadata": {},
   "outputs": [],
   "source": [
    "# Dependencies and Setup\n",
    "import matplotlib.pyplot as plt\n",
    "import pandas as pd\n",
    "import numpy as np\n",
    "import requests\n",
    "import gmaps\n",
    "import os\n",
    "\n",
    "# Import API key\n",
    "from api_keys import g_key\n",
    "\n",
    "gmaps.configure(api_key=g_key)"
   ]
  },
  {
   "cell_type": "markdown",
   "metadata": {},
   "source": [
    "### Store Part I results into DataFrame\n",
    "* Load the csv exported in Part I to a DataFrame"
   ]
  },
  {
   "cell_type": "code",
   "execution_count": 14,
   "metadata": {},
   "outputs": [],
   "source": [
    "cityDf = pd.read_csv(\"output_data/cities.csv\")"
   ]
  },
  {
   "cell_type": "markdown",
   "metadata": {},
   "source": [
    "### Humidity Heatmap\n",
    "* Configure gmaps.\n",
    "* Use the Lat and Lng as locations and Humidity as the weight.\n",
    "* Add Heatmap layer to map."
   ]
  },
  {
   "cell_type": "code",
   "execution_count": 30,
   "metadata": {},
   "outputs": [],
   "source": [
    "# Plot Heatmap\n",
    "# Customize the size of the figure\n",
    "equator_coordinates = (0.00, 0.00)\n",
    "fig = gmaps.figure(center=equator_coordinates, zoom_level=2)"
   ]
  },
  {
   "cell_type": "code",
   "execution_count": 58,
   "metadata": {
    "scrolled": true
   },
   "outputs": [
    {
     "data": {
      "application/vnd.jupyter.widget-view+json": {
       "model_id": "0a00dd445a3d4509b7e59d86daf2b2ad",
       "version_major": 2,
       "version_minor": 0
      },
      "text/plain": [
       "Figure(layout=FigureLayout(height='420px'))"
      ]
     },
     "metadata": {},
     "output_type": "display_data"
    }
   ],
   "source": [
    "# Assign the marker layer to a variable\n",
    "locations = cityDf[['Lat','Lng']]\n",
    "weights = cityDf['Humidity']\n",
    "layer = gmaps.heatmap_layer(locations, weights=weights)\n",
    "# Add the layer to the map\n",
    "fig.add_layer(layer)\n",
    "fig"
   ]
  },
  {
   "cell_type": "markdown",
   "metadata": {},
   "source": [
    "### Create new DataFrame fitting weather criteria\n",
    "* Narrow down the cities to fit weather conditions.\n",
    "* Drop any rows will null values."
   ]
  },
  {
   "cell_type": "code",
   "execution_count": 23,
   "metadata": {},
   "outputs": [
    {
     "data": {
      "text/plain": [
       "13"
      ]
     },
     "execution_count": 23,
     "metadata": {},
     "output_type": "execute_result"
    }
   ],
   "source": [
    "vacDf = cityDf.loc[cityDf['Cloudiness'] == 0]\n",
    "vacDf = vacDf.loc[vacDf['Wind Speed'] < 10]\n",
    "vacDf = vacDf[vacDf['Max Temp'] < 80]\n",
    "vacDf = vacDf[vacDf['Max Temp'] > 70]"
   ]
  },
  {
   "cell_type": "markdown",
   "metadata": {},
   "source": [
    "### Hotel Map\n",
    "* Store into variable named `hotel_df`.\n",
    "* Add a \"Hotel Name\" column to the DataFrame.\n",
    "* Set parameters to search for hotels with 5000 meters.\n",
    "* Hit the Google Places API for each city's coordinates.\n",
    "* Store the first Hotel result into the DataFrame.\n",
    "* Plot markers on top of the heatmap."
   ]
  },
  {
   "cell_type": "code",
   "execution_count": 25,
   "metadata": {},
   "outputs": [
    {
     "data": {
      "text/html": [
       "<div>\n",
       "<style scoped>\n",
       "    .dataframe tbody tr th:only-of-type {\n",
       "        vertical-align: middle;\n",
       "    }\n",
       "\n",
       "    .dataframe tbody tr th {\n",
       "        vertical-align: top;\n",
       "    }\n",
       "\n",
       "    .dataframe thead th {\n",
       "        text-align: right;\n",
       "    }\n",
       "</style>\n",
       "<table border=\"1\" class=\"dataframe\">\n",
       "  <thead>\n",
       "    <tr style=\"text-align: right;\">\n",
       "      <th></th>\n",
       "      <th>Unnamed: 0</th>\n",
       "      <th>City</th>\n",
       "      <th>Lat</th>\n",
       "      <th>Lng</th>\n",
       "      <th>Max Temp</th>\n",
       "      <th>Humidity</th>\n",
       "      <th>Cloudiness</th>\n",
       "      <th>Wind Speed</th>\n",
       "      <th>Date</th>\n",
       "      <th>Country</th>\n",
       "      <th>Hotel Name</th>\n",
       "    </tr>\n",
       "  </thead>\n",
       "  <tbody>\n",
       "    <tr>\n",
       "      <th>78</th>\n",
       "      <td>78</td>\n",
       "      <td>castro</td>\n",
       "      <td>-24.79</td>\n",
       "      <td>-50.01</td>\n",
       "      <td>72.05</td>\n",
       "      <td>80</td>\n",
       "      <td>0</td>\n",
       "      <td>5.39</td>\n",
       "      <td>1584476707</td>\n",
       "      <td>BR</td>\n",
       "      <td></td>\n",
       "    </tr>\n",
       "    <tr>\n",
       "      <th>81</th>\n",
       "      <td>81</td>\n",
       "      <td>atambua</td>\n",
       "      <td>-9.11</td>\n",
       "      <td>124.89</td>\n",
       "      <td>73.13</td>\n",
       "      <td>87</td>\n",
       "      <td>0</td>\n",
       "      <td>3.22</td>\n",
       "      <td>1584476845</td>\n",
       "      <td>ID</td>\n",
       "      <td></td>\n",
       "    </tr>\n",
       "    <tr>\n",
       "      <th>110</th>\n",
       "      <td>110</td>\n",
       "      <td>monywa</td>\n",
       "      <td>22.12</td>\n",
       "      <td>95.13</td>\n",
       "      <td>74.21</td>\n",
       "      <td>34</td>\n",
       "      <td>0</td>\n",
       "      <td>7.47</td>\n",
       "      <td>1584476849</td>\n",
       "      <td>MM</td>\n",
       "      <td></td>\n",
       "    </tr>\n",
       "    <tr>\n",
       "      <th>130</th>\n",
       "      <td>130</td>\n",
       "      <td>porbandar</td>\n",
       "      <td>21.64</td>\n",
       "      <td>69.61</td>\n",
       "      <td>78.89</td>\n",
       "      <td>57</td>\n",
       "      <td>0</td>\n",
       "      <td>9.13</td>\n",
       "      <td>1584476813</td>\n",
       "      <td>IN</td>\n",
       "      <td></td>\n",
       "    </tr>\n",
       "    <tr>\n",
       "      <th>230</th>\n",
       "      <td>230</td>\n",
       "      <td>yulara</td>\n",
       "      <td>-25.24</td>\n",
       "      <td>130.99</td>\n",
       "      <td>77.00</td>\n",
       "      <td>31</td>\n",
       "      <td>0</td>\n",
       "      <td>5.82</td>\n",
       "      <td>1584476767</td>\n",
       "      <td>AU</td>\n",
       "      <td></td>\n",
       "    </tr>\n",
       "  </tbody>\n",
       "</table>\n",
       "</div>"
      ],
      "text/plain": [
       "     Unnamed: 0       City    Lat     Lng  Max Temp  Humidity  Cloudiness  \\\n",
       "78           78     castro -24.79  -50.01     72.05        80           0   \n",
       "81           81    atambua  -9.11  124.89     73.13        87           0   \n",
       "110         110     monywa  22.12   95.13     74.21        34           0   \n",
       "130         130  porbandar  21.64   69.61     78.89        57           0   \n",
       "230         230     yulara -25.24  130.99     77.00        31           0   \n",
       "\n",
       "     Wind Speed        Date Country Hotel Name  \n",
       "78         5.39  1584476707      BR             \n",
       "81         3.22  1584476845      ID             \n",
       "110        7.47  1584476849      MM             \n",
       "130        9.13  1584476813      IN             \n",
       "230        5.82  1584476767      AU             "
      ]
     },
     "execution_count": 25,
     "metadata": {},
     "output_type": "execute_result"
    }
   ],
   "source": [
    "hotel_df = vacDf\n",
    "hotel_df[\"Hotel Name\"] = \"\"\n",
    "hotel_df.head()"
   ]
  },
  {
   "cell_type": "code",
   "execution_count": 51,
   "metadata": {},
   "outputs": [
    {
     "name": "stdout",
     "output_type": "stream",
     "text": [
      "Found hotel for castro\n",
      "Found hotel for atambua\n",
      "Found hotel for monywa\n",
      "Found hotel for porbandar\n",
      "Found hotel for yulara\n",
      "Found hotel for allapalli\n",
      "Found hotel for kodinar\n",
      "Found hotel for yazman\n",
      "Missing info...\n",
      "Found hotel for morondava\n",
      "Found hotel for qeshm\n",
      "Found hotel for oussouye\n",
      "Found hotel for marsh harbour\n"
     ]
    }
   ],
   "source": [
    "for index, row in hotel_df.iterrows():\n",
    "    target_coordinates = f\"{str(row['Lat'])}, {str(row['Lng'])}\"\n",
    "\n",
    "    target_search = \"hotel\"\n",
    "\n",
    "    # set up a parameters dictionary\n",
    "    params = {\n",
    "        \"location\": target_coordinates,\n",
    "        \"keyword\": target_search,\n",
    "        \"radius\": 5000,\n",
    "        \"key\": g_key\n",
    "    }\n",
    "    \n",
    "    base_url = \"https://maps.googleapis.com/maps/api/place/nearbysearch/json\"\n",
    "\n",
    "    # run a request using our params dictionary\n",
    "    response = requests.get(base_url, params=params)\n",
    "\n",
    "    geo_data = response.json()\n",
    "    \n",
    "    try:\n",
    "        hotel_df.loc[index,'Hotel Name'] = geo_data['results'][0]['name']\n",
    "        print(f\"Found hotel for {row['City']}\")\n",
    "        \n",
    "    except (KeyError, IndexError):\n",
    "        print(\"Missing info...\")\n",
    "        hotel_df.loc[index,'Hotel Name'] = \"NA\""
   ]
  },
  {
   "cell_type": "code",
   "execution_count": 52,
   "metadata": {},
   "outputs": [],
   "source": [
    "hotel_df = hotel_df[hotel_df['Hotel Name'] != \"NA\"]"
   ]
  },
  {
   "cell_type": "code",
   "execution_count": 53,
   "metadata": {},
   "outputs": [],
   "source": [
    "# NOTE: Do not change any of the code in this cell\n",
    "\n",
    "# Using the template add the hotel marks to the heatmap\n",
    "info_box_template = \"\"\"\n",
    "<dl>\n",
    "<dt>Name</dt><dd>{Hotel Name}</dd>\n",
    "<dt>City</dt><dd>{City}</dd>\n",
    "<dt>Country</dt><dd>{Country}</dd>\n",
    "</dl>\n",
    "\"\"\"\n",
    "# Store the DataFrame Row\n",
    "# NOTE: be sure to update with your DataFrame name\n",
    "hotel_info = [info_box_template.format(**row) for index, row in hotel_df.iterrows()]\n",
    "locations = hotel_df[[\"Lat\", \"Lng\"]]"
   ]
  },
  {
   "cell_type": "code",
   "execution_count": 55,
   "metadata": {},
   "outputs": [
    {
     "data": {
      "text/plain": [
       "['\\n<dl>\\n<dt>Name</dt><dd>Hotel Buganville Express</dd>\\n<dt>City</dt><dd>castro</dd>\\n<dt>Country</dt><dd>BR</dd>\\n</dl>\\n',\n",
       " '\\n<dl>\\n<dt>Name</dt><dd>Hotel Timor</dd>\\n<dt>City</dt><dd>atambua</dd>\\n<dt>Country</dt><dd>ID</dd>\\n</dl>\\n',\n",
       " '\\n<dl>\\n<dt>Name</dt><dd>Shwe Taung Tan Lake View Hotel</dd>\\n<dt>City</dt><dd>monywa</dd>\\n<dt>Country</dt><dd>MM</dd>\\n</dl>\\n',\n",
       " '\\n<dl>\\n<dt>Name</dt><dd>Hotel Kaveri International</dd>\\n<dt>City</dt><dd>porbandar</dd>\\n<dt>Country</dt><dd>IN</dd>\\n</dl>\\n',\n",
       " '\\n<dl>\\n<dt>Name</dt><dd>Sails in the Desert</dd>\\n<dt>City</dt><dd>yulara</dd>\\n<dt>Country</dt><dd>AU</dd>\\n</dl>\\n',\n",
       " '\\n<dl>\\n<dt>Name</dt><dd>Hotel IK Residency</dd>\\n<dt>City</dt><dd>allapalli</dd>\\n<dt>Country</dt><dd>IN</dd>\\n</dl>\\n',\n",
       " '\\n<dl>\\n<dt>Name</dt><dd>Hotel Sun Shine Kodinar</dd>\\n<dt>City</dt><dd>kodinar</dd>\\n<dt>Country</dt><dd>IN</dd>\\n</dl>\\n',\n",
       " '\\n<dl>\\n<dt>Name</dt><dd>Royal Nawab Marriage Hall</dd>\\n<dt>City</dt><dd>yazman</dd>\\n<dt>Country</dt><dd>PK</dd>\\n</dl>\\n',\n",
       " '\\n<dl>\\n<dt>Name</dt><dd>Palissandre Cote Ouest resort & SPA</dd>\\n<dt>City</dt><dd>morondava</dd>\\n<dt>Country</dt><dd>MG</dd>\\n</dl>\\n',\n",
       " '\\n<dl>\\n<dt>Name</dt><dd>Irman BOUTIQUE HOTEL</dd>\\n<dt>City</dt><dd>qeshm</dd>\\n<dt>Country</dt><dd>IR</dd>\\n</dl>\\n',\n",
       " '\\n<dl>\\n<dt>Name</dt><dd>Hotel Carabane</dd>\\n<dt>City</dt><dd>oussouye</dd>\\n<dt>Country</dt><dd>SN</dd>\\n</dl>\\n',\n",
       " '\\n<dl>\\n<dt>Name</dt><dd>Abaco Beach Resort</dd>\\n<dt>City</dt><dd>marsh harbour</dd>\\n<dt>Country</dt><dd>BS</dd>\\n</dl>\\n']"
      ]
     },
     "execution_count": 55,
     "metadata": {},
     "output_type": "execute_result"
    }
   ],
   "source": [
    "hotel_info"
   ]
  },
  {
   "cell_type": "code",
   "execution_count": 57,
   "metadata": {},
   "outputs": [
    {
     "data": {
      "application/vnd.jupyter.widget-view+json": {
       "model_id": "0a00dd445a3d4509b7e59d86daf2b2ad",
       "version_major": 2,
       "version_minor": 0
      },
      "text/plain": [
       "Figure(layout=FigureLayout(height='420px'))"
      ]
     },
     "metadata": {},
     "output_type": "display_data"
    }
   ],
   "source": [
    "# Add marker layer ontop of heat map\n",
    "markers = gmaps.marker_layer(locations,info_box_content=hotel_info)\n",
    "# Add the layer to the map\n",
    "fig.add_layer(markers)\n",
    "# Display Map\n",
    "fig"
   ]
  },
  {
   "cell_type": "code",
   "execution_count": null,
   "metadata": {},
   "outputs": [],
   "source": []
  }
 ],
 "metadata": {
  "kernelspec": {
   "display_name": "Python 3",
   "language": "python",
   "name": "python3"
  },
  "language_info": {
   "codemirror_mode": {
    "name": "ipython",
    "version": 3
   },
   "file_extension": ".py",
   "mimetype": "text/x-python",
   "name": "python",
   "nbconvert_exporter": "python",
   "pygments_lexer": "ipython3",
   "version": "3.6.10"
  },
  "latex_envs": {
   "LaTeX_envs_menu_present": true,
   "autoclose": false,
   "autocomplete": true,
   "bibliofile": "biblio.bib",
   "cite_by": "apalike",
   "current_citInitial": 1,
   "eqLabelWithNumbers": true,
   "eqNumInitial": 1,
   "hotkeys": {
    "equation": "Ctrl-E",
    "itemize": "Ctrl-I"
   },
   "labels_anchors": false,
   "latex_user_defs": false,
   "report_style_numbering": false,
   "user_envs_cfg": false
  }
 },
 "nbformat": 4,
 "nbformat_minor": 2
}
